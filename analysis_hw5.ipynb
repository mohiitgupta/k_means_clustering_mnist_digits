{
 "cells": [
  {
   "cell_type": "code",
   "execution_count": 1,
   "metadata": {
    "collapsed": true
   },
   "outputs": [],
   "source": [
    "from kmeans import get_results_kmeans"
   ]
  },
  {
   "cell_type": "code",
   "execution_count": 2,
   "metadata": {
    "collapsed": true
   },
   "outputs": [],
   "source": [
    "import numpy as np\n",
    "from numpy import genfromtxt\n",
    "import matplotlib.pyplot as plt"
   ]
  },
  {
   "cell_type": "code",
   "execution_count": 5,
   "metadata": {
    "collapsed": true
   },
   "outputs": [],
   "source": [
    "dataset = []"
   ]
  },
  {
   "cell_type": "code",
   "execution_count": 3,
   "metadata": {
    "collapsed": true
   },
   "outputs": [],
   "source": [
    "digits_embedding = genfromtxt('digits-embedding.csv', delimiter=',')"
   ]
  },
  {
   "cell_type": "code",
   "execution_count": 4,
   "metadata": {
    "collapsed": true
   },
   "outputs": [],
   "source": [
    "digits_2 = np.array([2,4,6,7])\n",
    "digits_3 = [6,7]\n",
    "digits_embedding_2 = digits_embedding[np.in1d(digits_embedding[:,1], digits_2)]\n",
    "digits_embedding_3 = digits_embedding[np.in1d(digits_embedding[:,1], digits_3)]"
   ]
  },
  {
   "cell_type": "code",
   "execution_count": 6,
   "metadata": {
    "collapsed": true
   },
   "outputs": [],
   "source": [
    "dataset.append(digits_embedding)\n",
    "dataset.append(digits_embedding_2)\n",
    "dataset.append(digits_embedding_3)"
   ]
  },
  {
   "cell_type": "code",
   "execution_count": null,
   "metadata": {
    "collapsed": true
   },
   "outputs": [],
   "source": [
    "k_values = [2,4,8,16,32]\n",
    "sc_values = []\n",
    "wc_ssd_values = []\n",
    "for i,digits_embedding in enumerate(dataset):\n",
    "    features = digits_embedding[:,2:4]\n",
    "    for k in k_values:\n",
    "        for seed in range(1):\n",
    "            wc_ssd, sc, nmi, cluster_indices = get_results_kmeans(features, k, seed, digits_embedding[:,1])\n",
    "            sc_values.append(sc)\n",
    "            wc_ssd_values.append(wc_ssd)\n",
    "    print (\"WC-SSD list:\", wc_ssd_values[i:i+len(k_values)])\n",
    "    print (\"SC list:\", sc_values[i:i+len(k_values)])"
   ]
  },
  {
   "cell_type": "code",
   "execution_count": null,
   "metadata": {
    "collapsed": true
   },
   "outputs": [],
   "source": []
  }
 ],
 "metadata": {
  "kernelspec": {
   "display_name": "Python 3",
   "language": "python",
   "name": "python3"
  },
  "language_info": {
   "codemirror_mode": {
    "name": "ipython",
    "version": 3
   },
   "file_extension": ".py",
   "mimetype": "text/x-python",
   "name": "python",
   "nbconvert_exporter": "python",
   "pygments_lexer": "ipython3",
   "version": "3.6.7"
  }
 },
 "nbformat": 4,
 "nbformat_minor": 2
}
