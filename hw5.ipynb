{
 "cells": [
  {
   "cell_type": "code",
   "execution_count": 1,
   "metadata": {
    "collapsed": true
   },
   "outputs": [],
   "source": [
    "import numpy as np\n",
    "from numpy import genfromtxt\n",
    "import matplotlib.pyplot as plt\n",
    "import random\n",
    "import sys"
   ]
  },
  {
   "cell_type": "code",
   "execution_count": 2,
   "metadata": {
    "collapsed": true
   },
   "outputs": [],
   "source": [
    "raw_digits = genfromtxt('digits-raw.csv', delimiter=',')"
   ]
  },
  {
   "cell_type": "code",
   "execution_count": 9,
   "metadata": {},
   "outputs": [],
   "source": [
    "for i in range(10):\n",
    "    class_i_digits = raw_digits[raw_digits[:,1]==i]\n",
    "    digit = np.random.choice(len(class_i_digits))\n",
    "    plt.imsave(str(i)+'.png',class_i_digits[digit][2:].reshape((28,28)),format='png', cmap='Greys', dpi=300)"
   ]
  },
  {
   "cell_type": "code",
   "execution_count": 10,
   "metadata": {
    "collapsed": true
   },
   "outputs": [],
   "source": [
    "digits_embedding = genfromtxt('digits-embedding.csv', delimiter=',')"
   ]
  },
  {
   "cell_type": "code",
   "execution_count": null,
   "metadata": {
    "collapsed": true
   },
   "outputs": [],
   "source": [
    "visualize_egs = np.random.randint(0,len(digits_embedding), size=1000)"
   ]
  },
  {
   "cell_type": "code",
   "execution_count": null,
   "metadata": {
    "collapsed": true
   },
   "outputs": [],
   "source": [
    "class_labels = [0,1,2,3,4,5,6,7,8,9]\n",
    "for i in range(10):\n",
    "    x_axis = []\n",
    "    y_axis = []\n",
    "    for eg in visualize_egs:\n",
    "        digit_array = digits_embedding[eg]\n",
    "        if digit_array[1] == i:\n",
    "            x_axis.append(digit_array[2])\n",
    "            y_axis.append(digit_array[3])\n",
    "    plt.scatter(x_axis, y_axis, label=i)\n",
    "plt.legend(class_labels, loc='best', fontsize=8, bbox_to_anchor=(1, 1))\n",
    "plt.show()"
   ]
  },
  {
   "cell_type": "code",
   "execution_count": null,
   "metadata": {
    "collapsed": true
   },
   "outputs": [],
   "source": [
    "def get_squared_distance(p1, p2):\n",
    "    sq_dist = 0\n",
    "    for i in range(len(p1)):\n",
    "        sq_dist +=(p1[i]-p2[i])**2\n",
    "    return sq_dist"
   ]
  },
  {
   "cell_type": "code",
   "execution_count": null,
   "metadata": {
    "collapsed": true
   },
   "outputs": [],
   "source": [
    "def get_cluster_id(centroids, feature):\n",
    "    min_dist = float(\"inf\")\n",
    "    min_centroid = -1\n",
    "    for i,centroid in enumerate(centroids):\n",
    "        dist = get_squared_distance(feature, centroid)\n",
    "        if dist < min_dist:\n",
    "            min_centroid = i\n",
    "            min_dist = dist\n",
    "    \n",
    "    return min_centroid     "
   ]
  },
  {
   "cell_type": "code",
   "execution_count": null,
   "metadata": {
    "collapsed": true
   },
   "outputs": [],
   "source": [
    "def run_kmeans(features, k, seed_value):\n",
    "    np.random.seed(seed_value)\n",
    "    centroids = []\n",
    "    centroid_indices = np.random.randint(0,len(features), size=k)\n",
    "    for index in centroid_indices:\n",
    "        centroids.append(features[index])\n",
    "\n",
    "    cluster_indices = np.zeros(len(features), dtype=np.int8)\n",
    "    '''\n",
    "    repeat till 50 iterations\n",
    "    '''\n",
    "    num_iterations = 50\n",
    "    for iteration in range(num_iterations):\n",
    "    #     print (centroids)\n",
    "        for i,feature in enumerate(features):\n",
    "            cluster_indices[i]=get_cluster_id(centroids, feature)\n",
    "\n",
    "        mean_x_centroids = np.zeros(k)\n",
    "        mean_y_centroids = np.zeros(k)\n",
    "        count_points_clusters = np.zeros(k)\n",
    "        for i, feature in enumerate(features):\n",
    "            mean_x_centroids[cluster_indices[i]] += feature[0]\n",
    "            mean_y_centroids[cluster_indices[i]] += feature[1]\n",
    "            count_points_clusters[cluster_indices[i]] += 1\n",
    "        mean_x_centroids/=count_points_clusters\n",
    "        mean_y_centroids/=count_points_clusters\n",
    "        for i in range(len(centroids)):\n",
    "            centroids[i]=[mean_x_centroids[i], mean_y_centroids[i]]\n",
    "    return cluster_indices, centroids"
   ]
  },
  {
   "cell_type": "code",
   "execution_count": null,
   "metadata": {
    "collapsed": true
   },
   "outputs": [],
   "source": [
    "def get_wc_ssd(centroids, features, cluster_indices):\n",
    "    wc_ssd=0\n",
    "    for i, feature in enumerate(features):\n",
    "        centroid = centroids[cluster_indices[i]]\n",
    "        wc_ssd += get_squared_distance(feature, centroid)\n",
    "    return wc_ssd"
   ]
  },
  {
   "cell_type": "code",
   "execution_count": null,
   "metadata": {
    "collapsed": true
   },
   "outputs": [],
   "source": [
    "'''\n",
    "Calculate silhoutte coefficient\n",
    "'''\n",
    "def get_SC(features, cluster_indices):\n",
    "    s_i_list = np.zeros(len(features))\n",
    "\n",
    "    features_norm = np.linalg.norm(features, axis=1)**2\n",
    "    distance_squared = features_norm.reshape(-1,1) + features_norm.reshape(1,-1) - 2*np.dot(features, features.T)\n",
    "    distance_squared[distance_squared<0]=0\n",
    "    distance_matrix = np.sqrt(distance_squared)\n",
    "    \n",
    "    for i, distance_i in enumerate(distance_matrix):\n",
    "        same_cluster_distances = distance_i[cluster_indices==cluster_indices[i]]\n",
    "        A=np.sum(same_cluster_distances)/(len(same_cluster_distances)-1)\n",
    "\n",
    "        diff_cluster_distances = distance_i[cluster_indices!=cluster_indices[i]]\n",
    "        B=np.sum(diff_cluster_distances)/(len(diff_cluster_distances))\n",
    "\n",
    "        s_i_list[i]=(B-A)/max(A,B)\n",
    "\n",
    "    SC = np.sum(s_i_list)/len(s_i_list)\n",
    "    return SC"
   ]
  },
  {
   "cell_type": "code",
   "execution_count": null,
   "metadata": {
    "collapsed": true
   },
   "outputs": [],
   "source": [
    "def get_entropy(labels):\n",
    "    elements, counts = np.unique(labels, return_counts = True)\n",
    "    counts=counts/len(labels)\n",
    "    return elements, -np.sum(counts*np.log(counts))"
   ]
  },
  {
   "cell_type": "code",
   "execution_count": null,
   "metadata": {
    "collapsed": true
   },
   "outputs": [],
   "source": [
    "def get_NMI(features, cluster_indices, class_labels):\n",
    "    class_unique_labels, class_entropy = get_entropy(class_labels)\n",
    "    cluster_unique_labels, cluster_entropy = get_entropy(cluster_indices)\n",
    "    '''\n",
    "    calculate conditional entropy for class labels given cluster\n",
    "    '''\n",
    "    conditional_entropy = 0\n",
    "    for cluster_id in cluster_unique_labels:\n",
    "        class_filter = class_labels[cluster_indices==cluster_id]\n",
    "        class_filter_labels, class_filter_entropy = get_entropy(class_filter)\n",
    "#         print (len(class_filter))\n",
    "        conditional_entropy += len(class_filter)*class_filter_entropy\n",
    "    conditional_entropy /= len(class_labels)\n",
    "    mutual_information = class_entropy - conditional_entropy\n",
    "    nmi = mutual_information/(class_entropy+cluster_entropy)\n",
    "    return nmi"
   ]
  },
  {
   "cell_type": "code",
   "execution_count": null,
   "metadata": {
    "collapsed": true
   },
   "outputs": [],
   "source": [
    "features = digits_embedding[:,2:4]\n",
    "k=10\n",
    "seed = 0\n",
    "cluster_indices, centroids = run_kmeans(features, k, seed)\n",
    "print(get_wc_ssd(centroids, features, cluster_indices))\n",
    "print(get_SC(features, cluster_indices))\n",
    "print(get_NMI(features, cluster_indices, digits_embedding[:,1]))"
   ]
  },
  {
   "cell_type": "code",
   "execution_count": null,
   "metadata": {
    "collapsed": true
   },
   "outputs": [],
   "source": [
    "digits_2 = np.array([2,4,6,7])\n",
    "digits_3 = [6,7]\n",
    "digits_embedding_2 = digits_embedding[np.in1d(digits_embedding[:,1], digits_2)]\n",
    "digits_embedding_3 = digits_embedding[np.in1d(digits_embedding[:,1], digits_3)]"
   ]
  },
  {
   "cell_type": "code",
   "execution_count": null,
   "metadata": {
    "collapsed": true
   },
   "outputs": [],
   "source": [
    "digits_embedding_3[:,1].shape"
   ]
  },
  {
   "cell_type": "code",
   "execution_count": null,
   "metadata": {
    "collapsed": true
   },
   "outputs": [],
   "source": [
    "digits_embedding[:,1]==2"
   ]
  },
  {
   "cell_type": "code",
   "execution_count": null,
   "metadata": {
    "collapsed": true
   },
   "outputs": [],
   "source": []
  }
 ],
 "metadata": {
  "kernelspec": {
   "display_name": "Python 3",
   "language": "python",
   "name": "python3"
  },
  "language_info": {
   "codemirror_mode": {
    "name": "ipython",
    "version": 3
   },
   "file_extension": ".py",
   "mimetype": "text/x-python",
   "name": "python",
   "nbconvert_exporter": "python",
   "pygments_lexer": "ipython3",
   "version": "3.6.7"
  }
 },
 "nbformat": 4,
 "nbformat_minor": 2
}
