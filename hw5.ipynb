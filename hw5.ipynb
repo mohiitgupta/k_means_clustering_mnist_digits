{
 "cells": [
  {
   "cell_type": "code",
   "execution_count": 135,
   "metadata": {
    "collapsed": true
   },
   "outputs": [],
   "source": [
    "import numpy as np\n",
    "from numpy import genfromtxt\n",
    "import matplotlib.pyplot as plt\n",
    "import random\n",
    "import sys\n",
    "np.random.seed(0)"
   ]
  },
  {
   "cell_type": "code",
   "execution_count": 2,
   "metadata": {
    "collapsed": true
   },
   "outputs": [],
   "source": [
    "raw_digits = genfromtxt('digits-raw.csv', delimiter=',')"
   ]
  },
  {
   "cell_type": "code",
   "execution_count": 36,
   "metadata": {},
   "outputs": [],
   "source": [
    "for i in range(10):\n",
    "    class_i_digits = raw_digits[raw_digits[:,1]==i]\n",
    "    digit = np.random.choice(len(class_i_digits))\n",
    "    plt.imsave(str(i)+'.png',class_i_digits[digit][2:].reshape((28,28)),format='png')"
   ]
  },
  {
   "cell_type": "code",
   "execution_count": 3,
   "metadata": {
    "collapsed": true
   },
   "outputs": [],
   "source": [
    "digits_embedding = genfromtxt('digits-embedding.csv', delimiter=',')"
   ]
  },
  {
   "cell_type": "code",
   "execution_count": 76,
   "metadata": {
    "collapsed": true
   },
   "outputs": [
    {
     "name": "stdout",
     "output_type": "stream",
     "text": [
      "[[ 2  7]\n",
      " [ 7 25]]\n",
      "[[ 2.]\n",
      " [25.]]\n",
      "[[ 2. 25.]]\n",
      "[[ 4. 27.]\n",
      " [27. 50.]]\n",
      "[[ 2  7]\n",
      " [ 7 25]]\n",
      "[[8.8817842e-16 1.3000000e+01]\n",
      " [1.3000000e+01 0.0000000e+00]]\n",
      "[[2.98023224e-08 3.60555128e+00]\n",
      " [3.60555128e+00 0.00000000e+00]]\n"
     ]
    }
   ],
   "source": [
    "x=np.array([[1,1],[3,4]])\n",
    "print (np.dot(x,x.T))\n",
    "x_norm=np.linalg.norm(x, axis=1)**2\n",
    "print (x_norm.reshape(-1, 1))\n",
    "print(x_norm.reshape(1, -1))\n",
    "print (x_norm.reshape(-1, 1) + x_norm.reshape(1, -1))\n",
    "print (np.dot(x, x.T))\n",
    "print ((x_norm.reshape(-1, 1) + x_norm.reshape(1, -1) - 2 * np.dot(x, x.T)))\n",
    "print(np.sqrt(x_norm.reshape(-1, 1) + x_norm.reshape(1, -1) - 2 * np.dot(x, x.T)))\n"
   ]
  },
  {
   "cell_type": "code",
   "execution_count": 142,
   "metadata": {
    "collapsed": true
   },
   "outputs": [],
   "source": [
    "features = digits_embedding[:,2:4]"
   ]
  },
  {
   "cell_type": "code",
   "execution_count": 143,
   "metadata": {
    "collapsed": true
   },
   "outputs": [],
   "source": [
    "def get_squared_distance(p1, p2):\n",
    "    sq_dist = 0\n",
    "    for i in range(len(p1)):\n",
    "        sq_dist +=(p1[i]-p2[i])**2\n",
    "    return sq_dist"
   ]
  },
  {
   "cell_type": "code",
   "execution_count": 148,
   "metadata": {},
   "outputs": [],
   "source": [
    "def get_cluster_id(centroids, feature):\n",
    "    min_dist = float(\"inf\")\n",
    "    min_centroid = -1\n",
    "    for i,centroid in enumerate(centroids):\n",
    "        dist = get_squared_distance(feature, centroid)\n",
    "        if dist < min_dist:\n",
    "            min_centroid = i\n",
    "            min_dist = dist\n",
    "    \n",
    "    return min_centroid     "
   ]
  },
  {
   "cell_type": "code",
   "execution_count": 194,
   "metadata": {},
   "outputs": [],
   "source": [
    "np.random.seed(0)\n",
    "k=10\n",
    "centroids = []\n",
    "centroid_indices = np.random.randint(0,len(features), size=k)\n",
    "for index in centroid_indices:\n",
    "    centroids.append(features[index])\n",
    "\n",
    "cluster_indices = np.zeros(len(features), dtype=np.int8)\n",
    "'''\n",
    "repeat till 50 iterations\n",
    "'''\n",
    "num_iterations = 50\n",
    "for iteration in range(num_iterations):\n",
    "#     print (centroids)\n",
    "    for i,feature in enumerate(features):\n",
    "        cluster_indices[i]=get_cluster_id(centroids, feature)\n",
    "\n",
    "    mean_x_centroids = np.zeros(k)\n",
    "    mean_y_centroids = np.zeros(k)\n",
    "    count_points_clusters = np.zeros(k)\n",
    "    for i, feature in enumerate(features):\n",
    "        mean_x_centroids[cluster_indices[i]] += feature[0]\n",
    "        mean_y_centroids[cluster_indices[i]] += feature[1]\n",
    "        count_points_clusters[cluster_indices[i]] += 1\n",
    "    mean_x_centroids/=count_points_clusters\n",
    "    mean_y_centroids/=count_points_clusters\n",
    "    for i in range(len(centroids)):\n",
    "        centroids[i]=[mean_x_centroids[i], mean_y_centroids[i]]"
   ]
  },
  {
   "cell_type": "code",
   "execution_count": 195,
   "metadata": {},
   "outputs": [],
   "source": [
    "def get_wc_ssd(centroids, features, cluster_indices):\n",
    "    wc_ssd=0\n",
    "    for i, feature in enumerate(features):\n",
    "        centroid = centroids[cluster_indices[i]]\n",
    "        wc_ssd += get_squared_distance(feature, centroid)\n",
    "    return wc_ssd"
   ]
  },
  {
   "cell_type": "code",
   "execution_count": 196,
   "metadata": {},
   "outputs": [
    {
     "data": {
      "text/plain": [
       "1433531.4694124344"
      ]
     },
     "execution_count": 196,
     "metadata": {},
     "output_type": "execute_result"
    }
   ],
   "source": [
    "get_wc_ssd(centroids, features, cluster_indices)"
   ]
  },
  {
   "cell_type": "code",
   "execution_count": 164,
   "metadata": {
    "collapsed": true
   },
   "outputs": [],
   "source": [
    "'''\n",
    "Calculate silhoutte coefficient\n",
    "'''\n",
    "def get_SC(features, cluster_indices):\n",
    "    s_i_list = np.zeros(len(features))\n",
    "\n",
    "    features_norm = np.linalg.norm(features, axis=1)**2\n",
    "    distance_squared = features_norm.reshape(-1,1)+features_norm.reshape(1,-1) - 2*np.dot(features, features.T)\n",
    "    distance_squared = distance_squared.clip(min=0)\n",
    "    distance_matrix = np.sqrt(distance_squared)\n",
    "    \n",
    "    for i, distance_i in enumerate(distance_matrix):\n",
    "        same_cluster_distances = distance_i[cluster_indices==cluster_indices[i]]\n",
    "        A=np.sum(same_cluster_distances)/(len(same_cluster_distances)-1)\n",
    "\n",
    "        diff_cluster_distances = distance_i[cluster_indices!=cluster_indices[i]]\n",
    "        B=np.sum(diff_cluster_distances)/(len(diff_cluster_distances))\n",
    "\n",
    "        s_i_list[i]=(B-A)/max(A,B)\n",
    "\n",
    "    SC = np.sum(s_i_list)/len(s_i_list)\n",
    "    return SC"
   ]
  },
  {
   "cell_type": "code",
   "execution_count": 207,
   "metadata": {},
   "outputs": [
    {
     "data": {
      "text/plain": [
       "0.7115334025138997"
      ]
     },
     "execution_count": 207,
     "metadata": {},
     "output_type": "execute_result"
    }
   ],
   "source": [
    "get_SC(features, cluster_indices)"
   ]
  },
  {
   "cell_type": "code",
   "execution_count": 5,
   "metadata": {
    "collapsed": true
   },
   "outputs": [],
   "source": [
    "visualize_egs = np.random.randint(0,len(digits_embedding), size=1000)"
   ]
  },
  {
   "cell_type": "code",
   "execution_count": 26,
   "metadata": {
    "collapsed": true
   },
   "outputs": [
    {
     "data": {
      "image/png": "[encoded data removed]",
      "text/plain": [
       "<matplotlib.figure.Figure at 0x10ed69128>"
      ]
     },
     "metadata": {},
     "output_type": "display_data"
    }
   ],
   "source": [
    "class_labels = [0,1,2,3,4,5,6,7,8,9]\n",
    "for i in range(10):\n",
    "    x_axis = []\n",
    "    y_axis = []\n",
    "    for eg in visualize_egs:\n",
    "        digit_array = digits_embedding[eg]\n",
    "        if digit_array[1] == i:\n",
    "            x_axis.append(digit_array[2])\n",
    "            y_axis.append(digit_array[3])\n",
    "    plt.scatter(x_axis, y_axis, label=i)\n",
    "plt.legend(class_labels, loc='best', fontsize=8, bbox_to_anchor=(1, 1))\n",
    "plt.show()"
   ]
  },
  {
   "cell_type": "code",
   "execution_count": null,
   "metadata": {
    "collapsed": true
   },
   "outputs": [],
   "source": []
  }
 ],
 "metadata": {
  "kernelspec": {
   "display_name": "Python 3",
   "language": "python",
   "name": "python3"
  },
  "language_info": {
   "codemirror_mode": {
    "name": "ipython",
    "version": 3
   },
   "file_extension": ".py",
   "mimetype": "text/x-python",
   "name": "python",
   "nbconvert_exporter": "python",
   "pygments_lexer": "ipython3",
   "version": "3.6.7"
  }
 },
 "nbformat": 4,
 "nbformat_minor": 2
}
